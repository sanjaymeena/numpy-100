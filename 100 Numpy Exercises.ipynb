{
 "cells": [
  {
   "cell_type": "markdown",
   "metadata": {},
   "source": [
    "# 100 numpy exercises"
   ]
  },
  {
   "cell_type": "code",
   "execution_count": 10,
   "metadata": {
    "collapsed": true
   },
   "outputs": [],
   "source": [
    "# Import the numpy package under the name np\n",
    "import numpy as np"
   ]
  },
  {
   "cell_type": "markdown",
   "metadata": {},
   "source": [
    "## 1. Print the numpy version and the configuration"
   ]
  },
  {
   "cell_type": "code",
   "execution_count": 3,
   "metadata": {
    "collapsed": false
   },
   "outputs": [
    {
     "name": "stdout",
     "output_type": "stream",
     "text": [
      "1.11.0\n",
      "atlas_3_10_blas_threads_info:\n",
      "  NOT AVAILABLE\n",
      "atlas_info:\n",
      "  NOT AVAILABLE\n",
      "atlas_3_10_info:\n",
      "  NOT AVAILABLE\n",
      "lapack_opt_info:\n",
      "    extra_link_args = ['-Wl,-framework', '-Wl,Accelerate']\n",
      "    extra_compile_args = ['-msse3']\n",
      "    define_macros = [('NO_ATLAS_INFO', 3), ('HAVE_CBLAS', None)]\n",
      "mkl_info:\n",
      "  NOT AVAILABLE\n",
      "openblas_lapack_info:\n",
      "  NOT AVAILABLE\n",
      "atlas_3_10_threads_info:\n",
      "  NOT AVAILABLE\n",
      "openblas_info:\n",
      "  NOT AVAILABLE\n",
      "atlas_threads_info:\n",
      "  NOT AVAILABLE\n",
      "lapack_mkl_info:\n",
      "  NOT AVAILABLE\n",
      "blas_opt_info:\n",
      "    extra_link_args = ['-Wl,-framework', '-Wl,Accelerate']\n",
      "    extra_compile_args = ['-msse3', '-I/System/Library/Frameworks/vecLib.framework/Headers']\n",
      "    define_macros = [('NO_ATLAS_INFO', 3), ('HAVE_CBLAS', None)]\n",
      "blas_mkl_info:\n",
      "  NOT AVAILABLE\n",
      "atlas_blas_info:\n",
      "  NOT AVAILABLE\n",
      "atlas_blas_threads_info:\n",
      "  NOT AVAILABLE\n",
      "atlas_3_10_blas_info:\n",
      "  NOT AVAILABLE\n"
     ]
    }
   ],
   "source": [
    "print(np.__version__)\n",
    "np.__config__.show()"
   ]
  },
  {
   "cell_type": "markdown",
   "metadata": {},
   "source": [
    "## 3. Create a null vector of size 10"
   ]
  },
  {
   "cell_type": "code",
   "execution_count": 4,
   "metadata": {
    "collapsed": false
   },
   "outputs": [
    {
     "name": "stdout",
     "output_type": "stream",
     "text": [
      "[ 0.  0.  0.  0.  0.  0.  0.  0.  0.  0.]\n"
     ]
    }
   ],
   "source": [
    "Z = np.zeros(10)\n",
    "print(Z)"
   ]
  },
  {
   "cell_type": "code",
   "execution_count": 9,
   "metadata": {
    "collapsed": false
   },
   "outputs": [],
   "source": [
    "# 4. How to get the documentation of the numpy add function from the command line ?\n",
    "python -c \"import numpy; numpy.info(numpy.add)\""
   ]
  },
  {
   "cell_type": "code",
   "execution_count": 11,
   "metadata": {
    "collapsed": false
   },
   "outputs": [
    {
     "name": "stdout",
     "output_type": "stream",
     "text": [
      "[ 0.  0.  0.  0.  1.  0.  0.  0.  0.  0.]\n"
     ]
    }
   ],
   "source": [
    "# 5. Create a null vector of size 10 but the fifth value which is 1 \n",
    "\n",
    "Z= np.zeros(10)\n",
    "Z[4]= 1\n",
    "print (Z)"
   ]
  },
  {
   "cell_type": "code",
   "execution_count": 12,
   "metadata": {
    "collapsed": false
   },
   "outputs": [
    {
     "name": "stdout",
     "output_type": "stream",
     "text": [
      "[10 11 12 13 14 15 16 17 18 19 20 21 22 23 24 25 26 27 28 29 30 31 32 33 34\n",
      " 35 36 37 38 39 40 41 42 43 44 45 46 47 48 49]\n"
     ]
    }
   ],
   "source": [
    "# 6. Create a vector with values ranging from 10 to 49\n",
    "Z=np.arange(10,50)\n",
    "print (Z)"
   ]
  },
  {
   "cell_type": "code",
   "execution_count": 14,
   "metadata": {
    "collapsed": false
   },
   "outputs": [
    {
     "name": "stdout",
     "output_type": "stream",
     "text": [
      "[49 48 47 46 45 44 43 42 41 40 39 38 37 36 35 34 33 32 31 30 29 28 27 26 25\n",
      " 24 23 22 21 20 19 18 17 16 15 14 13 12 11 10]\n"
     ]
    }
   ],
   "source": [
    "# 7. Reverse a vector (first element becomes last) \n",
    "Z = np.arange(10,50)\n",
    "Z= Z[::-1]\n",
    "print (Z)"
   ]
  },
  {
   "cell_type": "code",
   "execution_count": 15,
   "metadata": {
    "collapsed": false
   },
   "outputs": [
    {
     "name": "stdout",
     "output_type": "stream",
     "text": [
      "[[0 1 2]\n",
      " [3 4 5]\n",
      " [6 7 8]]\n"
     ]
    }
   ],
   "source": [
    "# 8. Create a 3x3 matrix with values ranging from 0 to 8 \n",
    "Z = np.arange(9).reshape(3,3)\n",
    "print (Z)"
   ]
  },
  {
   "cell_type": "code",
   "execution_count": 16,
   "metadata": {
    "collapsed": false
   },
   "outputs": [
    {
     "name": "stdout",
     "output_type": "stream",
     "text": [
      "(array([0, 1, 4]),)\n"
     ]
    }
   ],
   "source": [
    "# 9. Find indices of non-zero elements from [1,2,0,0,4,0] \n",
    "nz = np.nonzero([1,2,0,0,4,0])\n",
    "print(nz)"
   ]
  },
  {
   "cell_type": "code",
   "execution_count": 17,
   "metadata": {
    "collapsed": false
   },
   "outputs": [
    {
     "name": "stdout",
     "output_type": "stream",
     "text": [
      "[[ 1.  0.  0.]\n",
      " [ 0.  1.  0.]\n",
      " [ 0.  0.  1.]]\n"
     ]
    }
   ],
   "source": [
    "# 10. Create a 3x3 identity matrix\n",
    "Z= np.eye(3)\n",
    "print (Z)"
   ]
  },
  {
   "cell_type": "code",
   "execution_count": 18,
   "metadata": {
    "collapsed": false
   },
   "outputs": [
    {
     "name": "stdout",
     "output_type": "stream",
     "text": [
      "[ 1.98197312  2.13949619  2.67152251]\n"
     ]
    }
   ],
   "source": [
    "# 11. Create a 3x3x3 array with random values \n",
    "Z = np.random.uniform((3,3,3))\n",
    "print (Z)"
   ]
  },
  {
   "cell_type": "code",
   "execution_count": 19,
   "metadata": {
    "collapsed": false
   },
   "outputs": [
    {
     "name": "stdout",
     "output_type": "stream",
     "text": [
      "0.0113751594253 0.995035059799\n"
     ]
    }
   ],
   "source": [
    "# 12. Create a 10x10 array with random values and find the minimum and maximum values \n",
    "Z = np.random.random((10,10))\n",
    "Zmin, Zmax = Z.min(), Z.max()\n",
    "print(Zmin, Zmax)"
   ]
  },
  {
   "cell_type": "code",
   "execution_count": null,
   "metadata": {
    "collapsed": true
   },
   "outputs": [],
   "source": [
    "# 13. Create a random vector of size 30 and find the mean value\n",
    "Z = np.random.random(10)\n",
    "m = Z.mean()\n",
    "print (m)\n"
   ]
  },
  {
   "cell_type": "code",
   "execution_count": null,
   "metadata": {
    "collapsed": true
   },
   "outputs": [],
   "source": [
    "# 14. Create a 2d array with 1 on the border and 0 inside \n",
    "Z = np.ones((10,10))\n",
    "Z[1:-1,1:-1]=0\n"
   ]
  },
  {
   "cell_type": "code",
   "execution_count": 20,
   "metadata": {
    "collapsed": false
   },
   "outputs": [
    {
     "name": "stdout",
     "output_type": "stream",
     "text": [
      "nan\n",
      "False\n",
      "False\n",
      "nan\n",
      "False\n"
     ]
    }
   ],
   "source": [
    "# 15. What is the result of the following expression ?\n",
    "\n",
    "print(0 * np.nan)\n",
    "print(np.nan == np.nan)\n",
    "print(np.inf > np.nan)\n",
    "print(np.nan - np.nan)\n",
    "print(0.3 == 3 * 0.1)"
   ]
  },
  {
   "cell_type": "code",
   "execution_count": 21,
   "metadata": {
    "collapsed": false
   },
   "outputs": [
    {
     "name": "stdout",
     "output_type": "stream",
     "text": [
      "[[0 0 0 0 0]\n",
      " [1 0 0 0 0]\n",
      " [0 2 0 0 0]\n",
      " [0 0 3 0 0]\n",
      " [0 0 0 4 0]]\n"
     ]
    }
   ],
   "source": [
    "# 16. Create a 5x5 matrix with values 1,2,3,4 just below the diagonal\n",
    "\n",
    "Z = np.diag(1+np.arange(4), k = -1)\n",
    "print (Z)"
   ]
  },
  {
   "cell_type": "code",
   "execution_count": 27,
   "metadata": {
    "collapsed": false
   },
   "outputs": [
    {
     "name": "stdout",
     "output_type": "stream",
     "text": [
      "[[0 1 0 1 0 1 0 1]\n",
      " [1 0 1 0 1 0 1 0]\n",
      " [0 1 0 1 0 1 0 1]\n",
      " [1 0 1 0 1 0 1 0]\n",
      " [0 1 0 1 0 1 0 1]\n",
      " [1 0 1 0 1 0 1 0]\n",
      " [0 1 0 1 0 1 0 1]\n",
      " [1 0 1 0 1 0 1 0]]\n"
     ]
    }
   ],
   "source": [
    "# 17. Create a 8x8 matrix and fill it with a checkerboard pattern\n",
    "\n",
    "Z = np.zeros ((8,8), dtype=int)\n",
    "Z[1::2, ::2]= 1\n",
    "Z[::2, 1::2] = 1\n",
    "print (Z)"
   ]
  },
  {
   "cell_type": "code",
   "execution_count": 28,
   "metadata": {
    "collapsed": false
   },
   "outputs": [
    {
     "name": "stdout",
     "output_type": "stream",
     "text": [
      "(1, 5, 4)\n"
     ]
    }
   ],
   "source": [
    "# 18. Consider a (6,7,8) shape array, what is the index (x,y,z) of the 100th element ?\n",
    "\n",
    "print (np.unravel_index(100, (6,7,8)))"
   ]
  },
  {
   "cell_type": "code",
   "execution_count": 32,
   "metadata": {
    "collapsed": false
   },
   "outputs": [
    {
     "name": "stdout",
     "output_type": "stream",
     "text": [
      "[[0 1 0 1 0 1 0 1]\n",
      " [1 0 1 0 1 0 1 0]\n",
      " [0 1 0 1 0 1 0 1]\n",
      " [1 0 1 0 1 0 1 0]\n",
      " [0 1 0 1 0 1 0 1]\n",
      " [1 0 1 0 1 0 1 0]\n",
      " [0 1 0 1 0 1 0 1]\n",
      " [1 0 1 0 1 0 1 0]]\n"
     ]
    }
   ],
   "source": [
    "# 19. Create a checkerboard 8x8 matrix using the tile function \n",
    "array= np.array([[0,1], [1,0]])\n",
    "Z = np.tile(array,(4,4))\n",
    "print (Z)"
   ]
  },
  {
   "cell_type": "code",
   "execution_count": 33,
   "metadata": {
    "collapsed": false
   },
   "outputs": [
    {
     "name": "stdout",
     "output_type": "stream",
     "text": [
      "[[ 0.09302268  0.68516964  0.6563152   0.94814362  0.22654368]\n",
      " [ 0.92271393  0.08410377  0.00143531  0.57251683  0.85246156]\n",
      " [ 0.78987722  0.83070898  0.43102794  0.19263371  0.62121751]\n",
      " [ 0.18670368  0.05883253  0.84944765  0.77836116  0.2021178 ]\n",
      " [ 0.23664507  0.53484759  0.          1.          0.1196722 ]]\n"
     ]
    }
   ],
   "source": [
    "# 20. Normalize a 5x5 random matrix\n",
    "Z = np.random.random((5,5))\n",
    "Zmax, Zmin = Z.max(), Z.min()\n",
    "Z= (Z-Zmin)/(Zmax-Zmin)\n",
    "print (Z)"
   ]
  },
  {
   "cell_type": "code",
   "execution_count": 34,
   "metadata": {
    "collapsed": false
   },
   "outputs": [
    {
     "name": "stdout",
     "output_type": "stream",
     "text": [
      "[[ 3.  3.]\n",
      " [ 3.  3.]\n",
      " [ 3.  3.]\n",
      " [ 3.  3.]\n",
      " [ 3.  3.]]\n"
     ]
    }
   ],
   "source": [
    "# 21. Multiply a 5x3 matrix by a 3x2 matrix (real matrix product) \n",
    "Z= np.dot(np.ones((5,3)), np.ones((3,2)))\n",
    "print (Z)"
   ]
  },
  {
   "cell_type": "code",
   "execution_count": 35,
   "metadata": {
    "collapsed": false
   },
   "outputs": [
    {
     "name": "stdout",
     "output_type": "stream",
     "text": [
      "[[ 0.  1.  2.  3.  4.]\n",
      " [ 0.  1.  2.  3.  4.]\n",
      " [ 0.  1.  2.  3.  4.]\n",
      " [ 0.  1.  2.  3.  4.]\n",
      " [ 0.  1.  2.  3.  4.]]\n"
     ]
    }
   ],
   "source": [
    "# 22. Create a 5x5 matrix with row values ranging from 0 to 4\n",
    "Z = np.zeros((5,5))\n",
    "Z += np.arange(5)\n",
    "print(Z)"
   ]
  },
  {
   "cell_type": "code",
   "execution_count": 38,
   "metadata": {
    "collapsed": false
   },
   "outputs": [
    {
     "name": "stdout",
     "output_type": "stream",
     "text": [
      "[ 0.  1.  2.  3.  4.  5.  6.  7.  8.  9.]\n"
     ]
    }
   ],
   "source": [
    "# 23. Consider a generator function that generates 10 integers and use it to build an array \n",
    "\n",
    "def generate(): \n",
    "    for x in range(10):\n",
    "        yield x\n",
    "        \n",
    "Z = np.fromiter(generate(), dtype=float, count=-1)\n",
    "print (Z)"
   ]
  },
  {
   "cell_type": "code",
   "execution_count": 39,
   "metadata": {
    "collapsed": false
   },
   "outputs": [
    {
     "name": "stdout",
     "output_type": "stream",
     "text": [
      "[ 0.09090909  0.18181818  0.27272727  0.36363636  0.45454545  0.54545455\n",
      "  0.63636364  0.72727273  0.81818182  0.90909091]\n"
     ]
    }
   ],
   "source": [
    "# 24. Create a vector of size 10 with values ranging from 0 to 1, both excluded\n",
    "Z = np.linspace(0,1,12,endpoint=True)[1:-1]\n",
    "print(Z)"
   ]
  },
  {
   "cell_type": "code",
   "execution_count": 40,
   "metadata": {
    "collapsed": false
   },
   "outputs": [
    {
     "name": "stdout",
     "output_type": "stream",
     "text": [
      "[ 0.15503078  0.21692999  0.21737132  0.37907414  0.51967447  0.63376326\n",
      "  0.6803677   0.73890984  0.76585383  0.92828094]\n"
     ]
    }
   ],
   "source": [
    "# 25. Create a random vector of size 10 and sort it\n",
    "Z = np.random.random(10)\n",
    "Z.sort()\n",
    "print(Z)"
   ]
  },
  {
   "cell_type": "code",
   "execution_count": 41,
   "metadata": {
    "collapsed": false
   },
   "outputs": [
    {
     "name": "stdout",
     "output_type": "stream",
     "text": [
      "False\n"
     ]
    }
   ],
   "source": [
    "# 26. Consider two random array A anb B, check if they are equal \n",
    "\n",
    "A = np.random.randint(0,2,5)\n",
    "B = np.random.randint(0,2,5)\n",
    "equal = np.allclose(A,B)\n",
    "print(equal)"
   ]
  },
  {
   "cell_type": "code",
   "execution_count": 44,
   "metadata": {
    "collapsed": false
   },
   "outputs": [
    {
     "ename": "ValueError",
     "evalue": "assignment destination is read-only",
     "output_type": "error",
     "traceback": [
      "\u001b[0;31m---------------------------------------------------------------------------\u001b[0m",
      "\u001b[0;31mValueError\u001b[0m                                Traceback (most recent call last)",
      "\u001b[0;32m<ipython-input-44-aed29e88d03e>\u001b[0m in \u001b[0;36m<module>\u001b[0;34m()\u001b[0m\n\u001b[1;32m      2\u001b[0m \u001b[0mZ\u001b[0m \u001b[0;34m=\u001b[0m \u001b[0mnp\u001b[0m\u001b[0;34m.\u001b[0m\u001b[0mzeros\u001b[0m\u001b[0;34m(\u001b[0m\u001b[0;36m10\u001b[0m\u001b[0;34m)\u001b[0m\u001b[0;34m\u001b[0m\u001b[0m\n\u001b[1;32m      3\u001b[0m \u001b[0mZ\u001b[0m\u001b[0;34m.\u001b[0m\u001b[0mflags\u001b[0m\u001b[0;34m.\u001b[0m\u001b[0mwriteable\u001b[0m \u001b[0;34m=\u001b[0m \u001b[0;32mFalse\u001b[0m\u001b[0;34m\u001b[0m\u001b[0m\n\u001b[0;32m----> 4\u001b[0;31m \u001b[0mZ\u001b[0m\u001b[0;34m[\u001b[0m\u001b[0;36m0\u001b[0m\u001b[0;34m]\u001b[0m \u001b[0;34m=\u001b[0m \u001b[0;36m1\u001b[0m\u001b[0;34m\u001b[0m\u001b[0m\n\u001b[0m",
      "\u001b[0;31mValueError\u001b[0m: assignment destination is read-only"
     ]
    }
   ],
   "source": [
    "# 27. Make an array immutable (read-only) \n",
    "Z = np.zeros(10)\n",
    "Z.flags.writeable = False\n",
    "Z[0] = 1"
   ]
  },
  {
   "cell_type": "code",
   "execution_count": 46,
   "metadata": {
    "collapsed": false
   },
   "outputs": [
    {
     "name": "stdout",
     "output_type": "stream",
     "text": [
      "[ 0.96250123  0.6506005   0.54491442  0.98320135  1.07436851  0.86960498\n",
      "  0.84590016  0.74984671  0.83892943  1.31286586]\n",
      "[ 0.5626358   1.52768329  1.46410864  0.63104892  0.6793132   1.13706692\n",
      "  0.09305951  1.06856493  0.58647074  0.70543732]\n"
     ]
    }
   ],
   "source": [
    "# 28. Consider a random 10x2 matrix representing cartesian coordinates, convert them to polar coordinates\n",
    "Z = np.random.random((10,2))\n",
    "X,Y = Z[:,0], Z[:,1]\n",
    "R = np.sqrt(X**2+Y**2)\n",
    "T = np.arctan2(Y,X)\n",
    "print(R)\n",
    "print(T)"
   ]
  },
  {
   "cell_type": "code",
   "execution_count": 47,
   "metadata": {
    "collapsed": false
   },
   "outputs": [
    {
     "name": "stdout",
     "output_type": "stream",
     "text": [
      "[ 0.7128594   0.16541996  0.17981044  0.76582971  0.34887033  0.23396711\n",
      "  0.48205275  0.57696376  0.67187429  0.        ]\n"
     ]
    }
   ],
   "source": [
    "# 29. Create random vector of size 10 and replace the maximum value by 0\n",
    "Z = np.random.random(10)\n",
    "Z[Z.argmax()] = 0\n",
    "print(Z)"
   ]
  },
  {
   "cell_type": "code",
   "execution_count": 48,
   "metadata": {
    "collapsed": false
   },
   "outputs": [
    {
     "name": "stdout",
     "output_type": "stream",
     "text": [
      "[[(0.0, 0.0) (0.1111111111111111, 0.0) (0.2222222222222222, 0.0)\n",
      "  (0.3333333333333333, 0.0) (0.4444444444444444, 0.0)\n",
      "  (0.5555555555555556, 0.0) (0.6666666666666666, 0.0)\n",
      "  (0.7777777777777777, 0.0) (0.8888888888888888, 0.0) (1.0, 0.0)]\n",
      " [(0.0, 0.1111111111111111) (0.1111111111111111, 0.1111111111111111)\n",
      "  (0.2222222222222222, 0.1111111111111111)\n",
      "  (0.3333333333333333, 0.1111111111111111)\n",
      "  (0.4444444444444444, 0.1111111111111111)\n",
      "  (0.5555555555555556, 0.1111111111111111)\n",
      "  (0.6666666666666666, 0.1111111111111111)\n",
      "  (0.7777777777777777, 0.1111111111111111)\n",
      "  (0.8888888888888888, 0.1111111111111111) (1.0, 0.1111111111111111)]\n",
      " [(0.0, 0.2222222222222222) (0.1111111111111111, 0.2222222222222222)\n",
      "  (0.2222222222222222, 0.2222222222222222)\n",
      "  (0.3333333333333333, 0.2222222222222222)\n",
      "  (0.4444444444444444, 0.2222222222222222)\n",
      "  (0.5555555555555556, 0.2222222222222222)\n",
      "  (0.6666666666666666, 0.2222222222222222)\n",
      "  (0.7777777777777777, 0.2222222222222222)\n",
      "  (0.8888888888888888, 0.2222222222222222) (1.0, 0.2222222222222222)]\n",
      " [(0.0, 0.3333333333333333) (0.1111111111111111, 0.3333333333333333)\n",
      "  (0.2222222222222222, 0.3333333333333333)\n",
      "  (0.3333333333333333, 0.3333333333333333)\n",
      "  (0.4444444444444444, 0.3333333333333333)\n",
      "  (0.5555555555555556, 0.3333333333333333)\n",
      "  (0.6666666666666666, 0.3333333333333333)\n",
      "  (0.7777777777777777, 0.3333333333333333)\n",
      "  (0.8888888888888888, 0.3333333333333333) (1.0, 0.3333333333333333)]\n",
      " [(0.0, 0.4444444444444444) (0.1111111111111111, 0.4444444444444444)\n",
      "  (0.2222222222222222, 0.4444444444444444)\n",
      "  (0.3333333333333333, 0.4444444444444444)\n",
      "  (0.4444444444444444, 0.4444444444444444)\n",
      "  (0.5555555555555556, 0.4444444444444444)\n",
      "  (0.6666666666666666, 0.4444444444444444)\n",
      "  (0.7777777777777777, 0.4444444444444444)\n",
      "  (0.8888888888888888, 0.4444444444444444) (1.0, 0.4444444444444444)]\n",
      " [(0.0, 0.5555555555555556) (0.1111111111111111, 0.5555555555555556)\n",
      "  (0.2222222222222222, 0.5555555555555556)\n",
      "  (0.3333333333333333, 0.5555555555555556)\n",
      "  (0.4444444444444444, 0.5555555555555556)\n",
      "  (0.5555555555555556, 0.5555555555555556)\n",
      "  (0.6666666666666666, 0.5555555555555556)\n",
      "  (0.7777777777777777, 0.5555555555555556)\n",
      "  (0.8888888888888888, 0.5555555555555556) (1.0, 0.5555555555555556)]\n",
      " [(0.0, 0.6666666666666666) (0.1111111111111111, 0.6666666666666666)\n",
      "  (0.2222222222222222, 0.6666666666666666)\n",
      "  (0.3333333333333333, 0.6666666666666666)\n",
      "  (0.4444444444444444, 0.6666666666666666)\n",
      "  (0.5555555555555556, 0.6666666666666666)\n",
      "  (0.6666666666666666, 0.6666666666666666)\n",
      "  (0.7777777777777777, 0.6666666666666666)\n",
      "  (0.8888888888888888, 0.6666666666666666) (1.0, 0.6666666666666666)]\n",
      " [(0.0, 0.7777777777777777) (0.1111111111111111, 0.7777777777777777)\n",
      "  (0.2222222222222222, 0.7777777777777777)\n",
      "  (0.3333333333333333, 0.7777777777777777)\n",
      "  (0.4444444444444444, 0.7777777777777777)\n",
      "  (0.5555555555555556, 0.7777777777777777)\n",
      "  (0.6666666666666666, 0.7777777777777777)\n",
      "  (0.7777777777777777, 0.7777777777777777)\n",
      "  (0.8888888888888888, 0.7777777777777777) (1.0, 0.7777777777777777)]\n",
      " [(0.0, 0.8888888888888888) (0.1111111111111111, 0.8888888888888888)\n",
      "  (0.2222222222222222, 0.8888888888888888)\n",
      "  (0.3333333333333333, 0.8888888888888888)\n",
      "  (0.4444444444444444, 0.8888888888888888)\n",
      "  (0.5555555555555556, 0.8888888888888888)\n",
      "  (0.6666666666666666, 0.8888888888888888)\n",
      "  (0.7777777777777777, 0.8888888888888888)\n",
      "  (0.8888888888888888, 0.8888888888888888) (1.0, 0.8888888888888888)]\n",
      " [(0.0, 1.0) (0.1111111111111111, 1.0) (0.2222222222222222, 1.0)\n",
      "  (0.3333333333333333, 1.0) (0.4444444444444444, 1.0)\n",
      "  (0.5555555555555556, 1.0) (0.6666666666666666, 1.0)\n",
      "  (0.7777777777777777, 1.0) (0.8888888888888888, 1.0) (1.0, 1.0)]]\n"
     ]
    }
   ],
   "source": [
    "# 30. Create a structured array with x and y coordinates covering the [0,1]x[0,1] area \n",
    "\n",
    "Z = np.zeros((10,10), [('x',float),('y',float)])\n",
    "Z['x'], Z['y'] = np.meshgrid(np.linspace(0,1,10),\n",
    "                             np.linspace(0,1,10))\n",
    "print(Z)"
   ]
  },
  {
   "cell_type": "code",
   "execution_count": 49,
   "metadata": {
    "collapsed": false
   },
   "outputs": [
    {
     "name": "stdout",
     "output_type": "stream",
     "text": [
      "-128\n",
      "127\n",
      "-2147483648\n",
      "2147483647\n",
      "-9223372036854775808\n",
      "9223372036854775807\n",
      "-3.40282e+38\n",
      "3.40282e+38\n",
      "1.19209e-07\n",
      "-1.79769313486e+308\n",
      "1.79769313486e+308\n",
      "2.22044604925e-16\n"
     ]
    }
   ],
   "source": [
    "# 31. Print the minimum and maximum representable value for each numpy scalar type\n",
    "for dtype in [np.int8, np.int32, np.int64]:\n",
    "   print(np.iinfo(dtype).min)\n",
    "   print(np.iinfo(dtype).max)\n",
    "for dtype in [np.float32, np.float64]:\n",
    "   print(np.finfo(dtype).min)\n",
    "   print(np.finfo(dtype).max)\n",
    "   print(np.finfo(dtype).eps)"
   ]
  },
  {
   "cell_type": "code",
   "execution_count": 50,
   "metadata": {
    "collapsed": false
   },
   "outputs": [
    {
     "name": "stdout",
     "output_type": "stream",
     "text": [
      "[[ 0.  0.  0.  0.  0.  0.  0.  0.  0.  0.  0.  0.  0.  0.  0.  0.  0.  0.\n",
      "   0.  0.  0.  0.  0.  0.  0.]\n",
      " [ 0.  0.  0.  0.  0.  0.  0.  0.  0.  0.  0.  0.  0.  0.  0.  0.  0.  0.\n",
      "   0.  0.  0.  0.  0.  0.  0.]\n",
      " [ 0.  0.  0.  0.  0.  0.  0.  0.  0.  0.  0.  0.  0.  0.  0.  0.  0.  0.\n",
      "   0.  0.  0.  0.  0.  0.  0.]\n",
      " [ 0.  0.  0.  0.  0.  0.  0.  0.  0.  0.  0.  0.  0.  0.  0.  0.  0.  0.\n",
      "   0.  0.  0.  0.  0.  0.  0.]\n",
      " [ 0.  0.  0.  0.  0.  0.  0.  0.  0.  0.  0.  0.  0.  0.  0.  0.  0.  0.\n",
      "   0.  0.  0.  0.  0.  0.  0.]\n",
      " [ 0.  0.  0.  0.  0.  0.  0.  0.  0.  0.  0.  0.  0.  0.  0.  0.  0.  0.\n",
      "   0.  0.  0.  0.  0.  0.  0.]\n",
      " [ 0.  0.  0.  0.  0.  0.  0.  0.  0.  0.  0.  0.  0.  0.  0.  0.  0.  0.\n",
      "   0.  0.  0.  0.  0.  0.  0.]\n",
      " [ 0.  0.  0.  0.  0.  0.  0.  0.  0.  0.  0.  0.  0.  0.  0.  0.  0.  0.\n",
      "   0.  0.  0.  0.  0.  0.  0.]\n",
      " [ 0.  0.  0.  0.  0.  0.  0.  0.  0.  0.  0.  0.  0.  0.  0.  0.  0.  0.\n",
      "   0.  0.  0.  0.  0.  0.  0.]\n",
      " [ 0.  0.  0.  0.  0.  0.  0.  0.  0.  0.  0.  0.  0.  0.  0.  0.  0.  0.\n",
      "   0.  0.  0.  0.  0.  0.  0.]\n",
      " [ 0.  0.  0.  0.  0.  0.  0.  0.  0.  0.  0.  0.  0.  0.  0.  0.  0.  0.\n",
      "   0.  0.  0.  0.  0.  0.  0.]\n",
      " [ 0.  0.  0.  0.  0.  0.  0.  0.  0.  0.  0.  0.  0.  0.  0.  0.  0.  0.\n",
      "   0.  0.  0.  0.  0.  0.  0.]\n",
      " [ 0.  0.  0.  0.  0.  0.  0.  0.  0.  0.  0.  0.  0.  0.  0.  0.  0.  0.\n",
      "   0.  0.  0.  0.  0.  0.  0.]\n",
      " [ 0.  0.  0.  0.  0.  0.  0.  0.  0.  0.  0.  0.  0.  0.  0.  0.  0.  0.\n",
      "   0.  0.  0.  0.  0.  0.  0.]\n",
      " [ 0.  0.  0.  0.  0.  0.  0.  0.  0.  0.  0.  0.  0.  0.  0.  0.  0.  0.\n",
      "   0.  0.  0.  0.  0.  0.  0.]\n",
      " [ 0.  0.  0.  0.  0.  0.  0.  0.  0.  0.  0.  0.  0.  0.  0.  0.  0.  0.\n",
      "   0.  0.  0.  0.  0.  0.  0.]\n",
      " [ 0.  0.  0.  0.  0.  0.  0.  0.  0.  0.  0.  0.  0.  0.  0.  0.  0.  0.\n",
      "   0.  0.  0.  0.  0.  0.  0.]\n",
      " [ 0.  0.  0.  0.  0.  0.  0.  0.  0.  0.  0.  0.  0.  0.  0.  0.  0.  0.\n",
      "   0.  0.  0.  0.  0.  0.  0.]\n",
      " [ 0.  0.  0.  0.  0.  0.  0.  0.  0.  0.  0.  0.  0.  0.  0.  0.  0.  0.\n",
      "   0.  0.  0.  0.  0.  0.  0.]\n",
      " [ 0.  0.  0.  0.  0.  0.  0.  0.  0.  0.  0.  0.  0.  0.  0.  0.  0.  0.\n",
      "   0.  0.  0.  0.  0.  0.  0.]\n",
      " [ 0.  0.  0.  0.  0.  0.  0.  0.  0.  0.  0.  0.  0.  0.  0.  0.  0.  0.\n",
      "   0.  0.  0.  0.  0.  0.  0.]\n",
      " [ 0.  0.  0.  0.  0.  0.  0.  0.  0.  0.  0.  0.  0.  0.  0.  0.  0.  0.\n",
      "   0.  0.  0.  0.  0.  0.  0.]\n",
      " [ 0.  0.  0.  0.  0.  0.  0.  0.  0.  0.  0.  0.  0.  0.  0.  0.  0.  0.\n",
      "   0.  0.  0.  0.  0.  0.  0.]\n",
      " [ 0.  0.  0.  0.  0.  0.  0.  0.  0.  0.  0.  0.  0.  0.  0.  0.  0.  0.\n",
      "   0.  0.  0.  0.  0.  0.  0.]\n",
      " [ 0.  0.  0.  0.  0.  0.  0.  0.  0.  0.  0.  0.  0.  0.  0.  0.  0.  0.\n",
      "   0.  0.  0.  0.  0.  0.  0.]]\n"
     ]
    }
   ],
   "source": [
    "# 32. How to print all the values of an array ?\n",
    "np.set_printoptions(threshold=np.nan)\n",
    "Z = np.zeros((25,25))\n",
    "print(Z)"
   ]
  },
  {
   "cell_type": "code",
   "execution_count": 51,
   "metadata": {
    "collapsed": false
   },
   "outputs": [
    {
     "name": "stdout",
     "output_type": "stream",
     "text": [
      "[[ 0.  0.  0.  0.  0.  0.  0.  0.  0.  0.  0.  0.  0.  0.  0.  0.  0.  0.\n",
      "   0.  0.  0.  0.  0.  0.  0.]\n",
      " [ 0.  0.  0.  0.  0.  0.  0.  0.  0.  0.  0.  0.  0.  0.  0.  0.  0.  0.\n",
      "   0.  0.  0.  0.  0.  0.  0.]\n",
      " [ 0.  0.  0.  0.  0.  0.  0.  0.  0.  0.  0.  0.  0.  0.  0.  0.  0.  0.\n",
      "   0.  0.  0.  0.  0.  0.  0.]\n",
      " [ 0.  0.  0.  0.  0.  0.  0.  0.  0.  0.  0.  0.  0.  0.  0.  0.  0.  0.\n",
      "   0.  0.  0.  0.  0.  0.  0.]\n",
      " [ 0.  0.  0.  0.  0.  0.  0.  0.  0.  0.  0.  0.  0.  0.  0.  0.  0.  0.\n",
      "   0.  0.  0.  0.  0.  0.  0.]\n",
      " [ 0.  0.  0.  0.  0.  0.  0.  0.  0.  0.  0.  0.  0.  0.  0.  0.  0.  0.\n",
      "   0.  0.  0.  0.  0.  0.  0.]\n",
      " [ 0.  0.  0.  0.  0.  0.  0.  0.  0.  0.  0.  0.  0.  0.  0.  0.  0.  0.\n",
      "   0.  0.  0.  0.  0.  0.  0.]\n",
      " [ 0.  0.  0.  0.  0.  0.  0.  0.  0.  0.  0.  0.  0.  0.  0.  0.  0.  0.\n",
      "   0.  0.  0.  0.  0.  0.  0.]\n",
      " [ 0.  0.  0.  0.  0.  0.  0.  0.  0.  0.  0.  0.  0.  0.  0.  0.  0.  0.\n",
      "   0.  0.  0.  0.  0.  0.  0.]\n",
      " [ 0.  0.  0.  0.  0.  0.  0.  0.  0.  0.  0.  0.  0.  0.  0.  0.  0.  0.\n",
      "   0.  0.  0.  0.  0.  0.  0.]\n",
      " [ 0.  0.  0.  0.  0.  0.  0.  0.  0.  0.  0.  0.  0.  0.  0.  0.  0.  0.\n",
      "   0.  0.  0.  0.  0.  0.  0.]\n",
      " [ 0.  0.  0.  0.  0.  0.  0.  0.  0.  0.  0.  0.  0.  0.  0.  0.  0.  0.\n",
      "   0.  0.  0.  0.  0.  0.  0.]\n",
      " [ 0.  0.  0.  0.  0.  0.  0.  0.  0.  0.  0.  0.  0.  0.  0.  0.  0.  0.\n",
      "   0.  0.  0.  0.  0.  0.  0.]\n",
      " [ 0.  0.  0.  0.  0.  0.  0.  0.  0.  0.  0.  0.  0.  0.  0.  0.  0.  0.\n",
      "   0.  0.  0.  0.  0.  0.  0.]\n",
      " [ 0.  0.  0.  0.  0.  0.  0.  0.  0.  0.  0.  0.  0.  0.  0.  0.  0.  0.\n",
      "   0.  0.  0.  0.  0.  0.  0.]\n",
      " [ 0.  0.  0.  0.  0.  0.  0.  0.  0.  0.  0.  0.  0.  0.  0.  0.  0.  0.\n",
      "   0.  0.  0.  0.  0.  0.  0.]\n",
      " [ 0.  0.  0.  0.  0.  0.  0.  0.  0.  0.  0.  0.  0.  0.  0.  0.  0.  0.\n",
      "   0.  0.  0.  0.  0.  0.  0.]\n",
      " [ 0.  0.  0.  0.  0.  0.  0.  0.  0.  0.  0.  0.  0.  0.  0.  0.  0.  0.\n",
      "   0.  0.  0.  0.  0.  0.  0.]\n",
      " [ 0.  0.  0.  0.  0.  0.  0.  0.  0.  0.  0.  0.  0.  0.  0.  0.  0.  0.\n",
      "   0.  0.  0.  0.  0.  0.  0.]\n",
      " [ 0.  0.  0.  0.  0.  0.  0.  0.  0.  0.  0.  0.  0.  0.  0.  0.  0.  0.\n",
      "   0.  0.  0.  0.  0.  0.  0.]\n",
      " [ 0.  0.  0.  0.  0.  0.  0.  0.  0.  0.  0.  0.  0.  0.  0.  0.  0.  0.\n",
      "   0.  0.  0.  0.  0.  0.  0.]\n",
      " [ 0.  0.  0.  0.  0.  0.  0.  0.  0.  0.  0.  0.  0.  0.  0.  0.  0.  0.\n",
      "   0.  0.  0.  0.  0.  0.  0.]\n",
      " [ 0.  0.  0.  0.  0.  0.  0.  0.  0.  0.  0.  0.  0.  0.  0.  0.  0.  0.\n",
      "   0.  0.  0.  0.  0.  0.  0.]\n",
      " [ 0.  0.  0.  0.  0.  0.  0.  0.  0.  0.  0.  0.  0.  0.  0.  0.  0.  0.\n",
      "   0.  0.  0.  0.  0.  0.  0.]\n",
      " [ 0.  0.  0.  0.  0.  0.  0.  0.  0.  0.  0.  0.  0.  0.  0.  0.  0.  0.\n",
      "   0.  0.  0.  0.  0.  0.  0.]]\n"
     ]
    }
   ],
   "source": [
    "# 33. How to print all the values of an array ? \n",
    "np.set_printoptions(threshold=np.nan)\n",
    "Z = np.zeros((25,25))\n",
    "print(Z)"
   ]
  },
  {
   "cell_type": "code",
   "execution_count": 52,
   "metadata": {
    "collapsed": false
   },
   "outputs": [
    {
     "name": "stdout",
     "output_type": "stream",
     "text": [
      "39\n"
     ]
    }
   ],
   "source": [
    "# 34. How to find the closest value (to a given scalar) in an array ?\n",
    "Z = np.arange(100)\n",
    "v = np.random.uniform(0,100)\n",
    "index = (np.abs(Z-v)).argmin()\n",
    "print(Z[index])"
   ]
  },
  {
   "cell_type": "code",
   "execution_count": 54,
   "metadata": {
    "collapsed": false
   },
   "outputs": [
    {
     "name": "stdout",
     "output_type": "stream",
     "text": [
      "[((0.0, 0.0), (0.0, 0.0, 0.0)) ((0.0, 0.0), (0.0, 0.0, 0.0))\n",
      " ((0.0, 0.0), (0.0, 0.0, 0.0)) ((0.0, 0.0), (0.0, 0.0, 0.0))\n",
      " ((0.0, 0.0), (0.0, 0.0, 0.0)) ((0.0, 0.0), (0.0, 0.0, 0.0))\n",
      " ((0.0, 0.0), (0.0, 0.0, 0.0)) ((0.0, 0.0), (0.0, 0.0, 0.0))\n",
      " ((0.0, 0.0), (0.0, 0.0, 0.0)) ((0.0, 0.0), (0.0, 0.0, 0.0))]\n"
     ]
    }
   ],
   "source": [
    "# 35. Create a structured array representing a position (x,y) and a color (r,g,b) \n",
    "\n",
    "Z = np.zeros(10, [ ('position', [ ('x', float, 1),\n",
    "                                   ('y', float, 1)]),\n",
    "                    ('color',    [ ('r', float, 1),\n",
    "                                   ('g', float, 1),\n",
    "                                   ('b', float, 1)])])\n",
    "print(Z)"
   ]
  },
  {
   "cell_type": "code",
   "execution_count": 55,
   "metadata": {
    "collapsed": false
   },
   "outputs": [
    {
     "name": "stdout",
     "output_type": "stream",
     "text": [
      "[[ 0.          0.16041826  0.39636148  0.27970931  0.94692641  0.88158332\n",
      "   0.72715837  0.27128984  0.13970092  0.10537411]\n",
      " [ 0.16041826  0.          0.55193698  0.13301653  0.99254187  0.94895555\n",
      "   0.61672741  0.13961365  0.04171497  0.07104601]\n",
      " [ 0.39636148  0.55193698  0.          0.64959668  0.83315211  0.71746254\n",
      "   0.99381777  0.66653112  0.52147916  0.48504053]\n",
      " [ 0.27970931  0.13301653  0.64959668  0.          0.96823391  0.94428708\n",
      "   0.49051271  0.18607388  0.14019171  0.17473144]\n",
      " [ 0.94692641  0.99254187  0.83315211  0.96823391  0.          0.14703709\n",
      "   0.86081906  1.12595803  0.95240267  0.93812413]\n",
      " [ 0.88158332  0.94895555  0.71746254  0.94428708  0.14703709  0.\n",
      "   0.91397702  1.08672309  0.90758168  0.88838743]\n",
      " [ 0.72715837  0.61672741  0.99381777  0.49051271  0.86081906  0.91397702\n",
      "   0.          0.66089153  0.60712435  0.63055399]\n",
      " [ 0.27128984  0.13961365  0.66653112  0.18607388  1.12595803  1.08672309\n",
      "   0.66089153  0.          0.18128976  0.20768971]\n",
      " [ 0.13970092  0.04171497  0.52147916  0.14019171  0.95240267  0.90758168\n",
      "   0.60712435  0.18128976  0.          0.03660311]\n",
      " [ 0.10537411  0.07104601  0.48504053  0.17473144  0.93812413  0.88838743\n",
      "   0.63055399  0.20768971  0.03660311  0.        ]]\n",
      "[[ 0.          0.41669386  0.63884591  0.21273244  0.93419298  0.9354571\n",
      "   0.75385026  0.54378435  0.76137823  0.76418316]\n",
      " [ 0.41669386  0.          0.47848982  0.20786556  0.56743667  0.54535479\n",
      "   0.51299783  0.32729405  0.43409123  0.46643795]\n",
      " [ 0.63884591  0.47848982  0.          0.49753799  0.46613739  0.53004291\n",
      "   0.15144258  0.80532512  0.86355555  0.91160241]\n",
      " [ 0.21273244  0.20786556  0.49753799  0.          0.72934465  0.72524314\n",
      "   0.58603576  0.41999752  0.59916511  0.61577691]\n",
      " [ 0.93419298  0.56743667  0.46613739  0.72934465  0.          0.09813358\n",
      "   0.32877389  0.79791639  0.71523401  0.7794757 ]\n",
      " [ 0.9354571   0.54535479  0.53004291  0.72524314  0.09813358  0.\n",
      "   0.40469695  0.7418739   0.63706066  0.70213718]\n",
      " [ 0.75385026  0.51299783  0.15144258  0.58603576  0.32877389  0.40469695\n",
      "   0.          0.82684606  0.84126655  0.89619327]\n",
      " [ 0.54378435  0.32729405  0.80532512  0.41999752  0.79791639  0.7418739\n",
      "   0.82684606  0.          0.2440196   0.22727428]\n",
      " [ 0.76137823  0.43409123  0.86355555  0.59916511  0.71523401  0.63706066\n",
      "   0.84126655  0.2440196   0.          0.06546317]\n",
      " [ 0.76418316  0.46643795  0.91160241  0.61577691  0.7794757   0.70213718\n",
      "   0.89619327  0.22727428  0.06546317  0.        ]]\n"
     ]
    }
   ],
   "source": [
    "# 36. Consider a random vector with shape (100,2) representing coordinates, find point by point distances \n",
    "Z = np.random.random((10,2))\n",
    "X,Y = np.atleast_2d(Z[:,0]), np.atleast_2d(Z[:,1])\n",
    "D = np.sqrt( (X-X.T)**2 + (Y-Y.T)**2)\n",
    "print(D)\n",
    "\n",
    "# Much faster with scipy\n",
    "import scipy\n",
    "# Thanks Gavin Heverly-Coulson (#issue 1)\n",
    "import scipy.spatial\n",
    "\n",
    "Z = np.random.random((10,2))\n",
    "D = scipy.spatial.distance.cdist(Z,Z)\n",
    "print(D)"
   ]
  },
  {
   "cell_type": "code",
   "execution_count": 56,
   "metadata": {
    "collapsed": true
   },
   "outputs": [],
   "source": [
    "# 37. How to convert a float (32 bits) array into an integer (32 bits) in place ?\n",
    "Z = np.arange(10, dtype=np.int32)\n",
    "Z = Z.astype(np.float32, copy=False)"
   ]
  },
  {
   "cell_type": "markdown",
   "metadata": {},
   "source": [
    "# 38. Consider the following file:\n",
    "```\n",
    "1,2,3,4,5\n",
    "6,,,7,8\n",
    ",,9,10,11\n",
    "```\n",
    "How to read it?"
   ]
  },
  {
   "cell_type": "code",
   "execution_count": null,
   "metadata": {
    "collapsed": true
   },
   "outputs": [],
   "source": [
    "Z = np.genfromtxt(\"missing.dat\", delimiter=\",\")"
   ]
  },
  {
   "cell_type": "code",
   "execution_count": 58,
   "metadata": {
    "collapsed": false
   },
   "outputs": [
    {
     "name": "stdout",
     "output_type": "stream",
     "text": [
      "(0, 0) 0\n",
      "(0, 1) 1\n",
      "(0, 2) 2\n",
      "(1, 0) 3\n",
      "(1, 1) 4\n",
      "(1, 2) 5\n",
      "(2, 0) 6\n",
      "(2, 1) 7\n",
      "(2, 2) 8\n",
      "(0, 0) 0\n",
      "(0, 1) 1\n",
      "(0, 2) 2\n",
      "(1, 0) 3\n",
      "(1, 1) 4\n",
      "(1, 2) 5\n",
      "(2, 0) 6\n",
      "(2, 1) 7\n",
      "(2, 2) 8\n"
     ]
    }
   ],
   "source": [
    "# 39 .What is the equivalent of enumerate for numpy arrays ? \n",
    "Z = np.arange(9).reshape(3,3)\n",
    "for index, value in np.ndenumerate(Z):\n",
    "    print(index, value)\n",
    "for index in np.ndindex(Z.shape):\n",
    "    print(index, Z[index])"
   ]
  },
  {
   "cell_type": "code",
   "execution_count": 59,
   "metadata": {
    "collapsed": false
   },
   "outputs": [
    {
     "name": "stdout",
     "output_type": "stream",
     "text": [
      "[[ 0.36787944  0.44822088  0.51979489  0.57375342  0.60279818  0.60279818\n",
      "   0.57375342  0.51979489  0.44822088  0.36787944]\n",
      " [ 0.44822088  0.54610814  0.63331324  0.69905581  0.73444367  0.73444367\n",
      "   0.69905581  0.63331324  0.54610814  0.44822088]\n",
      " [ 0.51979489  0.63331324  0.73444367  0.81068432  0.85172308  0.85172308\n",
      "   0.81068432  0.73444367  0.63331324  0.51979489]\n",
      " [ 0.57375342  0.69905581  0.81068432  0.89483932  0.9401382   0.9401382\n",
      "   0.89483932  0.81068432  0.69905581  0.57375342]\n",
      " [ 0.60279818  0.73444367  0.85172308  0.9401382   0.98773022  0.98773022\n",
      "   0.9401382   0.85172308  0.73444367  0.60279818]\n",
      " [ 0.60279818  0.73444367  0.85172308  0.9401382   0.98773022  0.98773022\n",
      "   0.9401382   0.85172308  0.73444367  0.60279818]\n",
      " [ 0.57375342  0.69905581  0.81068432  0.89483932  0.9401382   0.9401382\n",
      "   0.89483932  0.81068432  0.69905581  0.57375342]\n",
      " [ 0.51979489  0.63331324  0.73444367  0.81068432  0.85172308  0.85172308\n",
      "   0.81068432  0.73444367  0.63331324  0.51979489]\n",
      " [ 0.44822088  0.54610814  0.63331324  0.69905581  0.73444367  0.73444367\n",
      "   0.69905581  0.63331324  0.54610814  0.44822088]\n",
      " [ 0.36787944  0.44822088  0.51979489  0.57375342  0.60279818  0.60279818\n",
      "   0.57375342  0.51979489  0.44822088  0.36787944]]\n"
     ]
    }
   ],
   "source": [
    "# 40. Generate a generic 2D Gaussian-like array\n",
    "X, Y = np.meshgrid(np.linspace(-1,1,10), np.linspace(-1,1,10))\n",
    "D = np.sqrt(X*X+Y*Y)\n",
    "sigma, mu = 1.0, 0.0\n",
    "G = np.exp(-( (D-mu)**2 / ( 2.0 * sigma**2 ) ) )\n",
    "print(G)"
   ]
  },
  {
   "cell_type": "code",
   "execution_count": 61,
   "metadata": {
    "collapsed": false
   },
   "outputs": [
    {
     "name": "stdout",
     "output_type": "stream",
     "text": [
      "[[ 0.  0.  0.  0.  0.  0.  0.  0.  0.  0.]\n",
      " [ 0.  0.  0.  0.  0.  0.  0.  0.  0.  0.]\n",
      " [ 0.  0.  0.  0.  0.  0.  0.  0.  0.  0.]\n",
      " [ 0.  0.  0.  0.  0.  0.  0.  0.  0.  0.]\n",
      " [ 0.  0.  0.  0.  0.  0.  0.  0.  0.  0.]\n",
      " [ 0.  1.  0.  0.  0.  0.  0.  0.  0.  0.]\n",
      " [ 0.  0.  0.  0.  1.  0.  0.  0.  0.  0.]\n",
      " [ 0.  0.  0.  0.  0.  0.  0.  0.  1.  0.]\n",
      " [ 0.  0.  0.  0.  0.  0.  0.  0.  0.  0.]\n",
      " [ 0.  0.  0.  0.  0.  0.  0.  0.  0.  0.]]\n"
     ]
    }
   ],
   "source": [
    "# 41. How to randomly place p elements in a 2D array ? \n",
    "n = 10\n",
    "p = 3\n",
    "Z = np.zeros((n,n))\n",
    "np.put(Z, np.random.choice(range(n*n), p, replace=False),1)\n",
    "print (Z)"
   ]
  },
  {
   "cell_type": "code",
   "execution_count": 63,
   "metadata": {
    "collapsed": false
   },
   "outputs": [
    {
     "data": {
      "text/plain": [
       "array([[-0.41712619, -0.31625791,  0.0709978 , -0.34058458, -0.13434146,\n",
       "         0.43301438,  0.03521052,  0.16470569,  0.34901327,  0.15536847],\n",
       "       [-0.05956321,  0.04384183,  0.33452578,  0.33625217,  0.11357225,\n",
       "         0.0933623 , -0.56757585, -0.30446339, -0.36167976,  0.37172787],\n",
       "       [-0.02549006,  0.03284777, -0.61508089, -0.12372374,  0.34520421,\n",
       "        -0.11325088,  0.19232351, -0.27531168,  0.27524018,  0.30724158],\n",
       "       [-0.6495722 ,  0.15249729,  0.24415751, -0.03699675, -0.45176077,\n",
       "         0.28232174,  0.27590372,  0.28603507, -0.4057478 ,  0.30316218],\n",
       "       [-0.34662175,  0.34142956,  0.15902326,  0.23408754,  0.25591137,\n",
       "        -0.30250848, -0.1511863 , -0.18736202, -0.40147969,  0.39870651]])"
      ]
     },
     "execution_count": 63,
     "metadata": {},
     "output_type": "execute_result"
    }
   ],
   "source": [
    "# 42. Subtract the mean of each row of a matrix \n",
    "X = np.random.rand(5, 10)\n",
    "\n",
    "# Recent versions of numpy\n",
    "Y = X - X.mean(axis=1, keepdims=True)\n",
    "\n",
    "# Older versions of numpy\n",
    "Y = X - X.mean(axis=1).reshape(-1, 1)\n",
    "Y\n"
   ]
  },
  {
   "cell_type": "code",
   "execution_count": 64,
   "metadata": {
    "collapsed": false
   },
   "outputs": [
    {
     "name": "stdout",
     "output_type": "stream",
     "text": [
      "[[8 9 1]\n",
      " [0 6 0]\n",
      " [5 1 4]]\n",
      "[[5 1 4]\n",
      " [0 6 0]\n",
      " [8 9 1]]\n"
     ]
    }
   ],
   "source": [
    "# 43. How to I sort an array by the nth column ?\n",
    "Z = np.random.randint(0,10,(3,3))\n",
    "print(Z)\n",
    "print(Z[Z[:,1].argsort()])"
   ]
  },
  {
   "cell_type": "code",
   "execution_count": 65,
   "metadata": {
    "collapsed": false
   },
   "outputs": [
    {
     "name": "stdout",
     "output_type": "stream",
     "text": [
      "False\n"
     ]
    }
   ],
   "source": [
    "# 44. How to tell if a given 2D array has null columns ?\n",
    "Z = np.random.randint(0,3,(3,10))\n",
    "print((~Z.any(axis=0)).any())\n"
   ]
  },
  {
   "cell_type": "code",
   "execution_count": 66,
   "metadata": {
    "collapsed": false
   },
   "outputs": [
    {
     "name": "stdout",
     "output_type": "stream",
     "text": [
      "0.507587170197\n"
     ]
    }
   ],
   "source": [
    "# 45. Find the nearest value from a given value in an array\n",
    "Z = np.random.uniform(0,1,10)\n",
    "z = 0.5\n",
    "m = Z.flat[np.abs(Z - z).argmin()]\n",
    "print(m)\n"
   ]
  },
  {
   "cell_type": "code",
   "execution_count": 67,
   "metadata": {
    "collapsed": false
   },
   "outputs": [
    {
     "name": "stdout",
     "output_type": "stream",
     "text": [
      "[ 4.  2.  5.  1.  4.  3.  3.  2.  3.  3.]\n"
     ]
    }
   ],
   "source": [
    "# 46. Consider a given vector, how to add 1 to each element indexed by a second vector (be careful with repeated indices) ?\n",
    "Z = np.ones(10)\n",
    "I = np.random.randint(0,len(Z),20)\n",
    "Z += np.bincount(I, minlength=len(Z))\n",
    "print(Z)\n"
   ]
  },
  {
   "cell_type": "code",
   "execution_count": 68,
   "metadata": {
    "collapsed": false
   },
   "outputs": [
    {
     "name": "stdout",
     "output_type": "stream",
     "text": [
      "[ 0.  7.  0.  6.  5.  0.  0.  0.  0.  3.]\n"
     ]
    }
   ],
   "source": [
    "# 47. How to accumulate elements of a vector (X) to an array (F) based on an index list (I) ?\n",
    "X = [1,2,3,4,5,6]\n",
    "I = [1,3,9,3,4,1]\n",
    "F = np.bincount(I,X)\n",
    "print(F)"
   ]
  },
  {
   "cell_type": "code",
   "execution_count": 69,
   "metadata": {
    "collapsed": false
   },
   "outputs": [
    {
     "name": "stdout",
     "output_type": "stream",
     "text": [
      "[0 1]\n"
     ]
    }
   ],
   "source": [
    "# 48. Considering a (w,h,3) image of (dtype=ubyte), compute the number of unique colors \n",
    "w,h = 16,16\n",
    "I = np.random.randint(0,2,(h,w,3)).astype(np.ubyte)\n",
    "F = I[...,0]*256*256 + I[...,1]*256 +I[...,2]\n",
    "n = len(np.unique(F))\n",
    "print(np.unique(I))"
   ]
  },
  {
   "cell_type": "code",
   "execution_count": 70,
   "metadata": {
    "collapsed": false
   },
   "outputs": [
    {
     "name": "stdout",
     "output_type": "stream",
     "text": [
      "[[55 50 64 48]\n",
      " [50 46 42 51]\n",
      " [46 50 54 45]]\n"
     ]
    }
   ],
   "source": [
    "# 49. Considering a four dimensions array, how to get sum over the last two axis at once ?\n",
    "A = np.random.randint(0,10,(3,4,3,4))\n",
    "sum = A.reshape(A.shape[:-2] + (-1,)).sum(axis=-1)\n",
    "print(sum)"
   ]
  },
  {
   "cell_type": "code",
   "execution_count": 71,
   "metadata": {
    "collapsed": false
   },
   "outputs": [
    {
     "name": "stdout",
     "output_type": "stream",
     "text": [
      "[ 0.42643508  0.33291546  0.63718304  0.43905364  0.47824262  0.37712373\n",
      "  0.48964857  0.38070623  0.36374802  0.71542702]\n"
     ]
    }
   ],
   "source": [
    "# 50. Considering a one-dimensional vector D, how to compute means of subsets of D using a vector S of same size describing subset indices?\n",
    "\n",
    "D = np.random.uniform(0,1,100)\n",
    "S = np.random.randint(0,10,100)\n",
    "D_sums = np.bincount(S, weights=D)\n",
    "D_counts = np.bincount(S)\n",
    "D_means = D_sums / D_counts\n",
    "print(D_means)"
   ]
  },
  {
   "cell_type": "code",
   "execution_count": 79,
   "metadata": {
    "collapsed": false
   },
   "outputs": [
    {
     "data": {
      "text/plain": [
       "array([ 53, 125,  16])"
      ]
     },
     "execution_count": 79,
     "metadata": {},
     "output_type": "execute_result"
    }
   ],
   "source": [
    "# 51. How to get the diagonal of a dot product ?\n",
    "A = np.random.randint(0,10,(3,3))\n",
    "B= np.random.randint(0,10,(3,3))\n",
    "#Slow version\n",
    "\n",
    "np.diag(np.dot(A, B))\n",
    "\n",
    "# Fast version\n",
    "np.sum(A * B.T, axis=1)\n",
    "\n",
    "# Faster version\n",
    "np.einsum(\"ij,ji->i\", A, B)"
   ]
  },
  {
   "cell_type": "code",
   "execution_count": 80,
   "metadata": {
    "collapsed": false
   },
   "outputs": [
    {
     "name": "stdout",
     "output_type": "stream",
     "text": [
      "[ 1.  0.  0.  0.  2.  0.  0.  0.  3.  0.  0.  0.  4.  0.  0.  0.  5.]\n"
     ]
    }
   ],
   "source": [
    "# 52. Consider the vector [1, 2, 3, 4, 5], how to build a new vector with 3 consecutive zeros interleaved between each value ?\n",
    "\n",
    "Z = np.array([1,2,3,4,5])\n",
    "nz = 3\n",
    "Z0 = np.zeros(len(Z) + (len(Z)-1)*(nz))\n",
    "Z0[::nz+1] = Z\n",
    "print(Z0)"
   ]
  },
  {
   "cell_type": "code",
   "execution_count": 81,
   "metadata": {
    "collapsed": false
   },
   "outputs": [
    {
     "name": "stdout",
     "output_type": "stream",
     "text": [
      "[[[ 2.  2.  2.]\n",
      "  [ 2.  2.  2.]\n",
      "  [ 2.  2.  2.]\n",
      "  [ 2.  2.  2.]\n",
      "  [ 2.  2.  2.]]\n",
      "\n",
      " [[ 2.  2.  2.]\n",
      "  [ 2.  2.  2.]\n",
      "  [ 2.  2.  2.]\n",
      "  [ 2.  2.  2.]\n",
      "  [ 2.  2.  2.]]\n",
      "\n",
      " [[ 2.  2.  2.]\n",
      "  [ 2.  2.  2.]\n",
      "  [ 2.  2.  2.]\n",
      "  [ 2.  2.  2.]\n",
      "  [ 2.  2.  2.]]\n",
      "\n",
      " [[ 2.  2.  2.]\n",
      "  [ 2.  2.  2.]\n",
      "  [ 2.  2.  2.]\n",
      "  [ 2.  2.  2.]\n",
      "  [ 2.  2.  2.]]\n",
      "\n",
      " [[ 2.  2.  2.]\n",
      "  [ 2.  2.  2.]\n",
      "  [ 2.  2.  2.]\n",
      "  [ 2.  2.  2.]\n",
      "  [ 2.  2.  2.]]]\n"
     ]
    }
   ],
   "source": [
    "# 53. Consider an array of dimension (5,5,3), how to mulitply it by an array with dimensions (5,5) ?\n",
    "A = np.ones((5,5,3))\n",
    "B = 2*np.ones((5,5))\n",
    "print(A * B[:,:,None])"
   ]
  },
  {
   "cell_type": "code",
   "execution_count": 82,
   "metadata": {
    "collapsed": false
   },
   "outputs": [
    {
     "name": "stdout",
     "output_type": "stream",
     "text": [
      "[[ 5  6  7  8  9]\n",
      " [ 0  1  2  3  4]\n",
      " [10 11 12 13 14]\n",
      " [15 16 17 18 19]\n",
      " [20 21 22 23 24]]\n"
     ]
    }
   ],
   "source": [
    "# 54. How to swap two rows of an array ?\n",
    "A = np.arange(25).reshape(5,5)\n",
    "A[[0,1]] = A[[1,0]]\n",
    "print(A)\n"
   ]
  },
  {
   "cell_type": "code",
   "execution_count": 83,
   "metadata": {
    "collapsed": false
   },
   "outputs": [
    {
     "name": "stdout",
     "output_type": "stream",
     "text": [
      "[(0, 1) (0, 29) (1, 29) (4, 45) (4, 67) (7, 43) (7, 48) (7, 82) (7, 88)\n",
      " (10, 26) (10, 52) (17, 42) (17, 58) (26, 52) (30, 47) (30, 97) (42, 58)\n",
      " (43, 82) (45, 67) (47, 57) (47, 90) (47, 97) (48, 88) (53, 54) (53, 83)\n",
      " (54, 83) (57, 90) (62, 73) (62, 81) (73, 81)]\n"
     ]
    }
   ],
   "source": [
    "# 55. Consider a set of 10 triplets describing 10 triangles (with shared vertices), find the set of unique line segments composing all the triangle\n",
    "faces = np.random.randint(0,100,(10,3))\n",
    "F = np.roll(faces.repeat(2,axis=1),-1,axis=1)\n",
    "F = F.reshape(len(F)*3,2)\n",
    "F = np.sort(F,axis=1)\n",
    "G = F.view( dtype=[('p0',F.dtype),('p1',F.dtype)] )\n",
    "G = np.unique(G)\n",
    "print(G)"
   ]
  },
  {
   "cell_type": "code",
   "execution_count": 84,
   "metadata": {
    "collapsed": false
   },
   "outputs": [
    {
     "name": "stdout",
     "output_type": "stream",
     "text": [
      "[1 1 2 3 4 4 6]\n"
     ]
    }
   ],
   "source": [
    "# 56. Given an array C that is a bincount, how to produce an array A such that np.bincount(A) == C ?\n",
    "C = np.bincount([1,1,2,3,4,4,6])\n",
    "A = np.repeat(np.arange(len(C)), C)\n",
    "print(A)"
   ]
  },
  {
   "cell_type": "code",
   "execution_count": 85,
   "metadata": {
    "collapsed": false
   },
   "outputs": [
    {
     "name": "stdout",
     "output_type": "stream",
     "text": [
      "[  1.   2.   3.   4.   5.   6.   7.   8.   9.  10.  11.  12.  13.  14.  15.\n",
      "  16.  17.  18.]\n"
     ]
    }
   ],
   "source": [
    "# 57. How to compute averages using a sliding window over an array ? \n",
    "def moving_average(a, n=3) :\n",
    "    ret = np.cumsum(a, dtype=float)\n",
    "    ret[n:] = ret[n:] - ret[:-n]\n",
    "    return ret[n - 1:] / n\n",
    "Z = np.arange(20)\n",
    "print(moving_average(Z, n=3))"
   ]
  },
  {
   "cell_type": "code",
   "execution_count": 87,
   "metadata": {
    "collapsed": false
   },
   "outputs": [
    {
     "name": "stdout",
     "output_type": "stream",
     "text": [
      "[[0 1 2]\n",
      " [1 2 3]\n",
      " [2 3 4]\n",
      " [3 4 5]\n",
      " [4 5 6]\n",
      " [5 6 7]\n",
      " [6 7 8]\n",
      " [7 8 9]]\n"
     ]
    }
   ],
   "source": [
    "# 58. Consider a one-dimensional array Z, build a two-dimensional array whose first row is (Z[0],Z[1],Z[2]) and each subsequent row is shifted by 1 (last row should be (Z[-3],Z[-2],Z[-1]) \n",
    "def rolling(a, window):\n",
    "    shape = (a.size - window + 1, window)\n",
    "    strides = (a.itemsize, a.itemsize)\n",
    "    return np.lib.stride_tricks.as_strided(a, shape=shape, strides=strides)\n",
    "Z = rolling(np.arange(10), 3)\n",
    "print(Z)"
   ]
  },
  {
   "cell_type": "code",
   "execution_count": 99,
   "metadata": {
    "collapsed": false
   },
   "outputs": [
    {
     "name": "stdout",
     "output_type": "stream",
     "text": [
      "original: \n",
      "[1 0 1 1 0 1 0 1 0 1 0 0 1 0 0 1 1 0 0 1 1 1 0 0 0 1 0 0 1 0 1 1 1 1 0 0 0\n",
      " 1 1 0 1 0 0 0 0 0 1 0 1 1 1 0 1 0 1 0 0 0 0 1 1 0 0 0 0 1 1 0 0 1 1 1 0 1\n",
      " 0 1 0 0 0 0 0 1 0 1 1 0 1 1 1 0 0 0 1 1 0 1 1 0 0 1]\n",
      "Negating a boolean: \n",
      "[0 1 0 0 1 0 1 0 1 0 1 1 0 1 1 0 0 1 1 0 0 0 1 1 1 0 1 1 0 1 0 0 0 0 1 1 1\n",
      " 0 0 1 0 1 1 1 1 1 0 1 0 0 0 1 0 1 0 1 1 1 1 0 0 1 1 1 1 0 0 1 1 0 0 0 1 0\n",
      " 1 0 1 1 1 1 1 0 1 0 0 1 0 0 0 1 1 1 0 0 1 0 0 1 1 0]\n",
      "original: \n",
      "[-0.87224321  0.58136951  0.50505371 -0.48854479  0.31228199  0.55196573\n",
      " -0.81038165  0.45321936  0.98967548  0.17369688]\n",
      "Change the sign of float inplace: \n",
      "[ 0.87224321 -0.58136951 -0.50505371  0.48854479 -0.31228199 -0.55196573\n",
      "  0.81038165 -0.45321936 -0.98967548 -0.17369688]\n"
     ]
    }
   ],
   "source": [
    "# 59. How to negate a boolean, or to change the sign of a float inplace ?\n",
    "Z = np.random.randint(0,2,100)\n",
    "print ('original: ')\n",
    "print (Z)\n",
    "print('Negating a boolean: ')\n",
    "print(np.logical_not(Z, out=Z))\n",
    "\n",
    "\n",
    "Z = np.random.uniform(-1.0,1.0,10)\n",
    "print ('original: ')\n",
    "print (Z)\n",
    "print ('Change the sign of float inplace: ')\n",
    "print(np.negative(Z, out=Z))"
   ]
  },
  {
   "cell_type": "code",
   "execution_count": 100,
   "metadata": {
    "collapsed": false
   },
   "outputs": [
    {
     "name": "stdout",
     "output_type": "stream",
     "text": [
      "[ 15.67392313   1.46091357   4.505239     1.10632792   2.32728862\n",
      "   9.85572999   1.63378493   5.57516785   1.46341974   4.00922863]\n"
     ]
    }
   ],
   "source": [
    "# 60. Consider 2 sets of points P0,P1 describing lines (2d) and a point p, how to compute distance from p to each line i (P0[i],P1[i]) ?\n",
    "\n",
    "def distance(P0, P1, p):\n",
    "    T = P1 - P0\n",
    "    L = (T**2).sum(axis=1)\n",
    "    U = -((P0[:,0]-p[...,0])*T[:,0] + (P0[:,1]-p[...,1])*T[:,1]) / L\n",
    "    U = U.reshape(len(U),1)\n",
    "    D = P0 + U*T - p\n",
    "    return np.sqrt((D**2).sum(axis=1))\n",
    "\n",
    "P0 = np.random.uniform(-10,10,(10,2))\n",
    "P1 = np.random.uniform(-10,10,(10,2))\n",
    "p  = np.random.uniform(-10,10,( 1,2))\n",
    "print(distance(P0, P1, p))"
   ]
  },
  {
   "cell_type": "code",
   "execution_count": 103,
   "metadata": {
    "collapsed": false
   },
   "outputs": [
    {
     "name": "stdout",
     "output_type": "stream",
     "text": [
      "[[  0.4054967    2.1068118    0.58003515   5.81257863   3.78192838]\n",
      " [  5.50377781   0.73285491   2.24238531   8.35353585  10.29310718]\n",
      " [  1.43607234   4.37599484   1.6638239    7.97693548   3.35590912]\n",
      " [  4.75104221   5.75454658   8.44481523   0.52972808   7.13454355]\n",
      " [  5.57737574   0.69984506   2.27839466   8.36475788  10.36864384]]\n"
     ]
    }
   ],
   "source": [
    "# 61. Consider 2 sets of points P0,P1 describing lines (2d) and a set of points P, how to compute distance from each point j (P[j]) to each line i (P0[i],P1[i]) ?\n",
    "\n",
    "P0 = np.random.uniform(-10, 10, (5,2))\n",
    "P1 = np.random.uniform(-10,10,(5,2))\n",
    "p = np.random.uniform(-10, 10, (5,2))\n",
    "print (np.array([distance(P0,P1,p_i) for p_i in p]))"
   ]
  },
  {
   "cell_type": "code",
   "execution_count": 104,
   "metadata": {
    "collapsed": false
   },
   "outputs": [
    {
     "name": "stdout",
     "output_type": "stream",
     "text": [
      "[[0 1 3 1 7 0 2 7 5 2]\n",
      " [9 4 1 1 2 3 5 5 8 8]\n",
      " [8 6 6 3 2 1 6 9 9 9]\n",
      " [7 5 1 3 7 6 9 4 2 8]\n",
      " [6 2 0 2 2 7 7 2 0 3]\n",
      " [7 9 3 1 2 2 8 3 6 1]\n",
      " [3 2 2 5 9 8 5 9 1 5]\n",
      " [8 0 9 2 1 1 3 8 7 8]\n",
      " [9 8 4 6 9 7 3 4 5 8]\n",
      " [0 5 5 5 8 8 1 5 5 8]]\n",
      "[[0 0 0 0 0]\n",
      " [0 0 1 3 1]\n",
      " [0 9 4 1 1]\n",
      " [0 8 6 6 3]\n",
      " [0 7 5 1 3]]\n"
     ]
    }
   ],
   "source": [
    "# 62. Consider an arbitrary array, write a function that extract a subpart with a fixed shape and centered on a given element (pad with a fill value when necessary) \n",
    "Z = np.random.randint(0,10,(10,10))\n",
    "shape = (5,5)\n",
    "fill  = 0\n",
    "position = (1,1)\n",
    "\n",
    "R = np.ones(shape, dtype=Z.dtype)*fill\n",
    "P  = np.array(list(position)).astype(int)\n",
    "Rs = np.array(list(R.shape)).astype(int)\n",
    "Zs = np.array(list(Z.shape)).astype(int)\n",
    "\n",
    "R_start = np.zeros((len(shape),)).astype(int)\n",
    "R_stop  = np.array(list(shape)).astype(int)\n",
    "Z_start = (P-Rs//2)\n",
    "Z_stop  = (P+Rs//2)+Rs%2\n",
    "\n",
    "R_start = (R_start - np.minimum(Z_start,0)).tolist()\n",
    "Z_start = (np.maximum(Z_start,0)).tolist()\n",
    "R_stop = np.maximum(R_start, (R_stop - np.maximum(Z_stop-Zs,0))).tolist()\n",
    "Z_stop = (np.minimum(Z_stop,Zs)).tolist()\n",
    "\n",
    "r = [slice(start,stop) for start,stop in zip(R_start,R_stop)]\n",
    "z = [slice(start,stop) for start,stop in zip(Z_start,Z_stop)]\n",
    "R[r] = Z[z]\n",
    "print(Z)\n",
    "print(R)"
   ]
  },
  {
   "cell_type": "code",
   "execution_count": 118,
   "metadata": {
    "collapsed": false
   },
   "outputs": [
    {
     "name": "stdout",
     "output_type": "stream",
     "text": [
      "original: \n",
      "[ 1  2  3  4  5  6  7  8  9 10 11 12 13 14]\n",
      "after strides: \n",
      "[[ 1  2  3  4]\n",
      " [ 2  3  4  5]\n",
      " [ 3  4  5  6]\n",
      " [ 4  5  6  7]\n",
      " [ 5  6  7  8]\n",
      " [ 6  7  8  9]\n",
      " [ 7  8  9 10]\n",
      " [ 8  9 10 11]\n",
      " [ 9 10 11 12]\n",
      " [10 11 12 13]\n",
      " [11 12 13 14]]\n"
     ]
    }
   ],
   "source": [
    "# 63. Consider an array Z = [1,2,3,4,5,6,7,8,9,10,11,12,13,14], how to generate an array R = [[1,2,3,4], [2,3,4,5], [3,4,5,6], ..., [11,12,13,14]] ?\n",
    "\n",
    "Z = np.arange(1,15,dtype=int)\n",
    "\n",
    "def rolling(a, window):\n",
    "    shape = (a.size - window + 1, window)\n",
    "    strides = (a.itemsize, a.itemsize)\n",
    "    return np.lib.stride_tricks.as_strided(a, shape=shape, strides=strides)\n",
    "R = rolling(Z, 4)\n",
    "print ('original: ')\n",
    "print (Z)\n",
    "print ('after strides: ')\n",
    "print(R)"
   ]
  },
  {
   "cell_type": "code",
   "execution_count": 120,
   "metadata": {
    "collapsed": false
   },
   "outputs": [
    {
     "name": "stdout",
     "output_type": "stream",
     "text": [
      "10\n"
     ]
    }
   ],
   "source": [
    "# 64. Compute a matrix rank\n",
    "Z = np.random.uniform(0,1,(10,10))\n",
    "U, S, V = np.linalg.svd(Z) # Singular Value Decomposition\n",
    "rank = np.sum(S > 1e-10)\n",
    "print (rank)"
   ]
  },
  {
   "cell_type": "code",
   "execution_count": 123,
   "metadata": {
    "collapsed": false
   },
   "outputs": [
    {
     "name": "stdout",
     "output_type": "stream",
     "text": [
      "[5 5 8 9 6 8 6 7 6 3 9 3 8 8 7 3 0 8 4 0 1 3 2 4 0 7 9 1 4 8 9 0 4 5 8 7 1\n",
      " 9 7 0 6 8 8 9 7 1 0 5 6 8]\n",
      "rank: 8\n"
     ]
    }
   ],
   "source": [
    "# 65. How to find the most frequent value in an array ?\n",
    "Z = np.random.randint(0,10,50)\n",
    "print (Z)\n",
    "print('rank:', np.bincount(Z).argmax())"
   ]
  },
  {
   "cell_type": "code",
   "execution_count": 126,
   "metadata": {
    "collapsed": false
   },
   "outputs": [
    {
     "name": "stdout",
     "output_type": "stream",
     "text": [
      "[[[[0 4 1]\n",
      "   [2 0 4]\n",
      "   [0 3 3]]\n",
      "\n",
      "  [[4 1 3]\n",
      "   [0 4 3]\n",
      "   [3 3 1]]\n",
      "\n",
      "  [[1 3 0]\n",
      "   [4 3 3]\n",
      "   [3 1 2]]\n",
      "\n",
      "  [[3 0 2]\n",
      "   [3 3 1]\n",
      "   [1 2 4]]]\n",
      "\n",
      "\n",
      " [[[2 0 4]\n",
      "   [0 3 3]\n",
      "   [3 4 1]]\n",
      "\n",
      "  [[0 4 3]\n",
      "   [3 3 1]\n",
      "   [4 1 2]]\n",
      "\n",
      "  [[4 3 3]\n",
      "   [3 1 2]\n",
      "   [1 2 1]]\n",
      "\n",
      "  [[3 3 1]\n",
      "   [1 2 4]\n",
      "   [2 1 1]]]\n",
      "\n",
      "\n",
      " [[[0 3 3]\n",
      "   [3 4 1]\n",
      "   [4 1 4]]\n",
      "\n",
      "  [[3 3 1]\n",
      "   [4 1 2]\n",
      "   [1 4 1]]\n",
      "\n",
      "  [[3 1 2]\n",
      "   [1 2 1]\n",
      "   [4 1 4]]\n",
      "\n",
      "  [[1 2 4]\n",
      "   [2 1 1]\n",
      "   [1 4 0]]]\n",
      "\n",
      "\n",
      " [[[3 4 1]\n",
      "   [4 1 4]\n",
      "   [1 0 1]]\n",
      "\n",
      "  [[4 1 2]\n",
      "   [1 4 1]\n",
      "   [0 1 2]]\n",
      "\n",
      "  [[1 2 1]\n",
      "   [4 1 4]\n",
      "   [1 2 4]]\n",
      "\n",
      "  [[2 1 1]\n",
      "   [1 4 0]\n",
      "   [2 4 2]]]]\n"
     ]
    }
   ],
   "source": [
    "# 66. Extract all the contiguous 3x3 blocks from a random 6x6 matrix \n",
    "\n",
    "Z = np.random.randint(0,5,(6,6))\n",
    "n = 3\n",
    "i = 1 + (Z.shape[0]-3)\n",
    "j = 1 + (Z.shape[1]-3)\n",
    "C = np.lib.stride_tricks.as_strided(Z, shape=(i, j, n, n), strides=Z.strides + Z.strides)\n",
    "print(C)"
   ]
  },
  {
   "cell_type": "code",
   "execution_count": 127,
   "metadata": {
    "collapsed": false
   },
   "outputs": [
    {
     "ename": "SyntaxError",
     "evalue": "invalid syntax (<ipython-input-127-d3d1b4e8c4de>, line 3)",
     "output_type": "error",
     "traceback": [
      "\u001b[0;36m  File \u001b[0;32m\"<ipython-input-127-d3d1b4e8c4de>\"\u001b[0;36m, line \u001b[0;32m3\u001b[0m\n\u001b[0;31m    def __setitem__(self, (i,j), value):\u001b[0m\n\u001b[0m                          ^\u001b[0m\n\u001b[0;31mSyntaxError\u001b[0m\u001b[0;31m:\u001b[0m invalid syntax\n"
     ]
    }
   ],
   "source": [
    "# 67. Create a 2D array subclass such that Z[i,j] == Z[j,i]\n",
    "class Symetric(np.ndarray):\n",
    "    def __setitem__(self, (i,j), value):\n",
    "        super(Symetric, self).__setitem__((i,j), value)\n",
    "        super(Symetric, self).__setitem__((j,i), value)\n",
    "\n",
    "def symetric(Z):\n",
    "    return np.asarray(Z + Z.T - np.diag(Z.diagonal())).view(Symetric)\n",
    "\n",
    "S = symetric(np.random.randint(0,10,(5,5)))\n",
    "S[2,3] = 42\n",
    "print(S)"
   ]
  },
  {
   "cell_type": "code",
   "execution_count": 128,
   "metadata": {
    "collapsed": false
   },
   "outputs": [
    {
     "name": "stdout",
     "output_type": "stream",
     "text": [
      "[[ 200.]\n",
      " [ 200.]\n",
      " [ 200.]\n",
      " [ 200.]\n",
      " [ 200.]\n",
      " [ 200.]\n",
      " [ 200.]\n",
      " [ 200.]\n",
      " [ 200.]\n",
      " [ 200.]\n",
      " [ 200.]\n",
      " [ 200.]\n",
      " [ 200.]\n",
      " [ 200.]\n",
      " [ 200.]\n",
      " [ 200.]\n",
      " [ 200.]\n",
      " [ 200.]\n",
      " [ 200.]\n",
      " [ 200.]]\n"
     ]
    }
   ],
   "source": [
    "# 68. Consider a set of p matrices wich shape (n,n) and a set of p vectors with shape (n,1). How to compute the sum of of the p matrix products at once ? (result has shape (n,1))\n",
    "p, n = 10, 20\n",
    "M = np.ones((p,n,n))\n",
    "V = np.ones((p,n,1))\n",
    "S = np.tensordot(M, V, axes=[[0, 2], [0, 1]])\n",
    "print(S)\n",
    "\n",
    "# It works, because:\n",
    "# M is (p,n,n)\n",
    "# V is (p,n,1)\n",
    "# Thus, summing over the paired axes 0 and 0 (of M and V independently),\n",
    "# and 2 and 1, to remain with a (n,1) vector."
   ]
  },
  {
   "cell_type": "code",
   "execution_count": 133,
   "metadata": {
    "collapsed": false
   },
   "outputs": [
    {
     "name": "stdout",
     "output_type": "stream",
     "text": [
      "input array\n",
      "[[ 1.  1.  1.  1.  1.  1.  1.  1.  1.  1.  1.  1.  1.  1.  1.  1.]\n",
      " [ 1.  1.  1.  1.  1.  1.  1.  1.  1.  1.  1.  1.  1.  1.  1.  1.]\n",
      " [ 1.  1.  1.  1.  1.  1.  1.  1.  1.  1.  1.  1.  1.  1.  1.  1.]\n",
      " [ 1.  1.  1.  1.  1.  1.  1.  1.  1.  1.  1.  1.  1.  1.  1.  1.]\n",
      " [ 1.  1.  1.  1.  1.  1.  1.  1.  1.  1.  1.  1.  1.  1.  1.  1.]\n",
      " [ 1.  1.  1.  1.  1.  1.  1.  1.  1.  1.  1.  1.  1.  1.  1.  1.]\n",
      " [ 1.  1.  1.  1.  1.  1.  1.  1.  1.  1.  1.  1.  1.  1.  1.  1.]\n",
      " [ 1.  1.  1.  1.  1.  1.  1.  1.  1.  1.  1.  1.  1.  1.  1.  1.]\n",
      " [ 1.  1.  1.  1.  1.  1.  1.  1.  1.  1.  1.  1.  1.  1.  1.  1.]\n",
      " [ 1.  1.  1.  1.  1.  1.  1.  1.  1.  1.  1.  1.  1.  1.  1.  1.]\n",
      " [ 1.  1.  1.  1.  1.  1.  1.  1.  1.  1.  1.  1.  1.  1.  1.  1.]\n",
      " [ 1.  1.  1.  1.  1.  1.  1.  1.  1.  1.  1.  1.  1.  1.  1.  1.]\n",
      " [ 1.  1.  1.  1.  1.  1.  1.  1.  1.  1.  1.  1.  1.  1.  1.  1.]\n",
      " [ 1.  1.  1.  1.  1.  1.  1.  1.  1.  1.  1.  1.  1.  1.  1.  1.]\n",
      " [ 1.  1.  1.  1.  1.  1.  1.  1.  1.  1.  1.  1.  1.  1.  1.  1.]\n",
      " [ 1.  1.  1.  1.  1.  1.  1.  1.  1.  1.  1.  1.  1.  1.  1.  1.]]\n",
      "block sum\n",
      "[[ 16.  16.  16.  16.]\n",
      " [ 16.  16.  16.  16.]\n",
      " [ 16.  16.  16.  16.]\n",
      " [ 16.  16.  16.  16.]]\n"
     ]
    }
   ],
   "source": [
    "# 69. Consider a 16x16 array, how to get the block-sum (block size is 4x4) ?\n",
    "Z = np.ones((16,16))\n",
    "k = 4\n",
    "S = np.add.reduceat(np.add.reduceat(Z, np.arange(0, Z.shape[0], k), axis=0),\n",
    "                                       np.arange(0, Z.shape[1], k), axis=1)\n",
    "print ('input array')\n",
    "print (Z)\n",
    "print ('block sum')\n",
    "print (S)"
   ]
  },
  {
   "cell_type": "code",
   "execution_count": 136,
   "metadata": {
    "collapsed": false
   },
   "outputs": [],
   "source": [
    "# 70. How to implement the Game of Life using numpy arrays ?\n",
    "# Author: Nicolas Rougier\n",
    "def iterate(Z):\n",
    "    # Count neighbours\n",
    "    N = (Z[0:-2,0:-2] + Z[0:-2,1:-1] + Z[0:-2,2:] +\n",
    "         Z[1:-1,0:-2]                + Z[1:-1,2:] +\n",
    "         Z[2:  ,0:-2] + Z[2:  ,1:-1] + Z[2:  ,2:])\n",
    "\n",
    "    # Apply rules\n",
    "    birth = (N==3) & (Z[1:-1,1:-1]==0)\n",
    "    survive = ((N==2) | (N==3)) & (Z[1:-1,1:-1]==1)\n",
    "    Z[...] = 0\n",
    "    Z[1:-1,1:-1][birth | survive] = 1\n",
    "    return Z\n",
    "\n",
    "Z = np.random.randint(0,2,(50,50))\n",
    "for i in range(100): Z = iterate(Z)\n"
   ]
  },
  {
   "cell_type": "code",
   "execution_count": 137,
   "metadata": {
    "collapsed": false
   },
   "outputs": [
    {
     "name": "stdout",
     "output_type": "stream",
     "text": [
      "[9995 9996 9997 9998 9999]\n",
      "[9996 9999 9997 9998 9995]\n"
     ]
    }
   ],
   "source": [
    "# 71. How to get the n largest values of an array \n",
    "Z = np.arange(10000)\n",
    "np.random.shuffle(Z)\n",
    "n = 5\n",
    "\n",
    "# Slow\n",
    "print (Z[np.argsort(Z)[-n:]])\n",
    "\n",
    "# Fast\n",
    "print (Z[np.argpartition(-Z,n)[:n]])"
   ]
  },
  {
   "cell_type": "code",
   "execution_count": 138,
   "metadata": {
    "collapsed": false
   },
   "outputs": [
    {
     "name": "stdout",
     "output_type": "stream",
     "text": [
      "[[1 4 6]\n",
      " [1 4 7]\n",
      " [1 5 6]\n",
      " [1 5 7]\n",
      " [2 4 6]\n",
      " [2 4 7]\n",
      " [2 5 6]\n",
      " [2 5 7]\n",
      " [3 4 6]\n",
      " [3 4 7]\n",
      " [3 5 6]\n",
      " [3 5 7]]\n"
     ]
    }
   ],
   "source": [
    "# 72. Given an arbitrary number of vectors, build the cartesian product (every combinations of every item) \n",
    "def cartesian(arrays):\n",
    "    arrays = [np.asarray(a) for a in arrays]\n",
    "    shape = (len(x) for x in arrays)\n",
    "\n",
    "    ix = np.indices(shape, dtype=int)\n",
    "    ix = ix.reshape(len(arrays), -1).T\n",
    "\n",
    "    for n, arr in enumerate(arrays):\n",
    "        ix[:, n] = arrays[n][ix[:, n]]\n",
    "\n",
    "    return ix\n",
    "\n",
    "print (cartesian(([1, 2, 3], [4, 5], [6, 7])))"
   ]
  },
  {
   "cell_type": "code",
   "execution_count": 139,
   "metadata": {
    "collapsed": true
   },
   "outputs": [],
   "source": [
    "# 73. How to create a record array from a regular array ?\n",
    "Z = np.array([(\"Hello\", 2.5, 3),\n",
    "              (\"World\", 3.6, 2)])\n",
    "R = np.core.records.fromarrays(Z.T,\n",
    "                               names='col1, col2, col3',\n",
    "                               formats = 'S8, f8, i8')\n"
   ]
  },
  {
   "cell_type": "code",
   "execution_count": 142,
   "metadata": {
    "collapsed": false
   },
   "outputs": [
    {
     "name": "stdout",
     "output_type": "stream",
     "text": [
      "1 loops, best of 3: 1.53 s per loop\n",
      "1 loops, best of 3: 528 ms per loop\n",
      "1 loops, best of 3: 286 ms per loop\n"
     ]
    },
    {
     "name": "stderr",
     "output_type": "stream",
     "text": [
      "//anaconda/lib/python3.5/site-packages/ipykernel/__main__.py:2: VisibleDeprecationWarning: using a non-integer number instead of an integer will result in an error in the future\n",
      "  from ipykernel import kernelapp as app\n"
     ]
    }
   ],
   "source": [
    "# 74. Consider a large vector Z, compute Z to the power of 3 using 3 different methods \n",
    "x = np.random.rand(5e7)\n",
    "\n",
    "%timeit np.power(x,3)\n",
    "%timeit x*x*x\n",
    "%timeit np.einsum('i,i,i->i',x,x,x)\n"
   ]
  },
  {
   "cell_type": "code",
   "execution_count": 143,
   "metadata": {
    "collapsed": false
   },
   "outputs": [
    {
     "name": "stdout",
     "output_type": "stream",
     "text": [
      "[0 1 3 5 6 7]\n"
     ]
    }
   ],
   "source": [
    "# 75. Consider two arrays A and B of shape (8,3) and (2,2). How to find rows of A that contain elements of each row of B regardless of the order of the elements in B ?\n",
    "\n",
    "# Author: Gabe Schwartz\n",
    "\n",
    "A = np.random.randint(0,5,(8,3))\n",
    "B = np.random.randint(0,5,(2,2))\n",
    "\n",
    "C = (A[..., np.newaxis, np.newaxis] == B)\n",
    "rows = (C.sum(axis=(1,2,3)) >= B.shape[1]).nonzero()[0]\n",
    "print(rows)\n"
   ]
  },
  {
   "cell_type": "code",
   "execution_count": 144,
   "metadata": {
    "collapsed": false
   },
   "outputs": [
    {
     "name": "stdout",
     "output_type": "stream",
     "text": [
      "[[4 3 3]\n",
      " [0 2 2]\n",
      " [3 1 2]\n",
      " [4 3 0]\n",
      " [0 3 2]\n",
      " [4 0 4]\n",
      " [0 1 2]\n",
      " [4 2 0]\n",
      " [3 0 0]\n",
      " [2 4 0]]\n",
      "[[4 3 3]\n",
      " [0 2 2]\n",
      " [3 1 2]\n",
      " [4 3 0]\n",
      " [0 3 2]\n",
      " [4 0 4]\n",
      " [0 1 2]\n",
      " [4 2 0]\n",
      " [3 0 0]\n",
      " [2 4 0]]\n"
     ]
    }
   ],
   "source": [
    "# 76. Considering a 10x3 matrix, extract rows with unequal values (e.g. [2,2,3])\n",
    "# Author: Robert Kern\n",
    "\n",
    "Z = np.random.randint(0,5,(10,3))\n",
    "E = np.logical_and.reduce(Z[:,1:] == Z[:,:-1], axis=1)\n",
    "U = Z[~E]\n",
    "print(Z)\n",
    "print(U)"
   ]
  },
  {
   "cell_type": "code",
   "execution_count": 145,
   "metadata": {
    "collapsed": false
   },
   "outputs": [
    {
     "name": "stdout",
     "output_type": "stream",
     "text": [
      "[[0 0 0 0 0 0 0 0]\n",
      " [0 0 0 0 0 0 0 1]\n",
      " [0 0 0 0 0 0 1 0]\n",
      " [0 0 0 0 0 0 1 1]\n",
      " [0 0 0 0 1 1 1 1]\n",
      " [0 0 0 1 0 0 0 0]\n",
      " [0 0 1 0 0 0 0 0]\n",
      " [0 1 0 0 0 0 0 0]\n",
      " [1 0 0 0 0 0 0 0]]\n",
      "[[0 0 0 0 0 0 0 0]\n",
      " [0 0 0 0 0 0 0 1]\n",
      " [0 0 0 0 0 0 1 0]\n",
      " [0 0 0 0 0 0 1 1]\n",
      " [0 0 0 0 1 1 1 1]\n",
      " [0 0 0 1 0 0 0 0]\n",
      " [0 0 1 0 0 0 0 0]\n",
      " [0 1 0 0 0 0 0 0]\n",
      " [1 0 0 0 0 0 0 0]]\n"
     ]
    }
   ],
   "source": [
    "# 77. Convert a vector of ints into a matrix binary representation\n",
    "# Author: Warren Weckesser\n",
    "\n",
    "I = np.array([0, 1, 2, 3, 15, 16, 32, 64, 128])\n",
    "B = ((I.reshape(-1,1) & (2**np.arange(8))) != 0).astype(int)\n",
    "print(B[:,::-1])\n",
    "\n",
    "# Author: Daniel T. McDonald\n",
    "\n",
    "I = np.array([0, 1, 2, 3, 15, 16, 32, 64, 128], dtype=np.uint8)\n",
    "print(np.unpackbits(I[:, np.newaxis], axis=1))\n"
   ]
  },
  {
   "cell_type": "code",
   "execution_count": 146,
   "metadata": {
    "collapsed": false
   },
   "outputs": [
    {
     "name": "stdout",
     "output_type": "stream",
     "text": [
      "[[1 0 0]\n",
      " [1 1 0]\n",
      " [1 1 1]]\n"
     ]
    }
   ],
   "source": [
    "# 78. Given a two dimensional array, how to extract unique rows ? \n",
    "# Author: Jaime Fernández del Río\n",
    "\n",
    "Z = np.random.randint(0,2,(6,3))\n",
    "T = np.ascontiguousarray(Z).view(np.dtype((np.void, Z.dtype.itemsize * Z.shape[1])))\n",
    "_, idx = np.unique(T, return_index=True)\n",
    "uZ = Z[idx]\n",
    "print(uZ)"
   ]
  },
  {
   "cell_type": "code",
   "execution_count": 171,
   "metadata": {
    "collapsed": false
   },
   "outputs": [
    {
     "name": "stdout",
     "output_type": "stream",
     "text": [
      "[0 1 2]\n"
     ]
    }
   ],
   "source": [
    "# 79. Considering 2 vectors A & B, write the einsum equivalent of inner, outer, sum, and mul function \n",
    "# Author: Alex Riley\n",
    "# Make sure to read: http://ajcr.net/Basic-guide-to-einsum/\n",
    "\n",
    "A= np.arange(3)\n",
    "B =  np.arange(12).reshape(3,4)\n",
    "print (A)\n",
    "#np.einsum('ii->', A)       # np.sum(A)\n",
    "#np.einsum('i,i->i', A, B) # A * B\n",
    "#np.einsum('i,i', A, B)    # np.inner(A, B)\n",
    "#np.einsum('...i,j', A, B)    # np.outer(A, B)"
   ]
  },
  {
   "cell_type": "code",
   "execution_count": 155,
   "metadata": {
    "collapsed": true
   },
   "outputs": [],
   "source": [
    "# 80. Considering a path described by two vectors (X,Y), how to sample it using equidistant samples ?\n",
    "# Author: Bas Swinckels\n",
    "\n",
    "phi = np.arange(0, 10*np.pi, 0.1)\n",
    "a = 1\n",
    "x = a*phi*np.cos(phi)\n",
    "y = a*phi*np.sin(phi)\n",
    "\n",
    "dr = (np.diff(x)**2 + np.diff(y)**2)**.5 # segment lengths\n",
    "r = np.zeros_like(x)\n",
    "r[1:] = np.cumsum(dr)                # integrate path\n",
    "r_int = np.linspace(0, r.max(), 200) # regular spaced path\n",
    "x_int = np.interp(r_int, r, x)       # integrate path\n",
    "y_int = np.interp(r_int, r, y)"
   ]
  },
  {
   "cell_type": "code",
   "execution_count": null,
   "metadata": {
    "collapsed": true
   },
   "outputs": [],
   "source": []
  }
 ],
 "metadata": {
  "kernelspec": {
   "display_name": "Python 3",
   "language": "python",
   "name": "python3"
  },
  "language_info": {
   "codemirror_mode": {
    "name": "ipython",
    "version": 3
   },
   "file_extension": ".py",
   "mimetype": "text/x-python",
   "name": "python",
   "nbconvert_exporter": "python",
   "pygments_lexer": "ipython3",
   "version": "3.5.1"
  }
 },
 "nbformat": 4,
 "nbformat_minor": 0
}
